{
  "nbformat": 4,
  "nbformat_minor": 0,
  "metadata": {
    "colab": {
      "provenance": [],
      "authorship_tag": "ABX9TyMLti0B84NPUdUdhx6ZjJBV",
      "include_colab_link": true
    },
    "kernelspec": {
      "name": "python3",
      "display_name": "Python 3"
    },
    "language_info": {
      "name": "python"
    }
  },
  "cells": [
    {
      "cell_type": "markdown",
      "metadata": {
        "id": "view-in-github",
        "colab_type": "text"
      },
      "source": [
        "<a href=\"https://colab.research.google.com/github/Saylion/Drive-to-Huggingface-Uploader-Colab/blob/main/Drive_to_Huggingface_Uploader_v1.ipynb\" target=\"_parent\"><img src=\"https://colab.research.google.com/assets/colab-badge.svg\" alt=\"Open In Colab\"/></a>"
      ]
    },
    {
      "cell_type": "code",
      "source": [
        "#@title Import Google Drive\n",
        "from google.colab import drive\n",
        "drive.mount('/content/drive')"
      ],
      "metadata": {
        "cellView": "form",
        "id": "Y8Kdiv7-O1EK"
      },
      "execution_count": null,
      "outputs": []
    },
    {
      "cell_type": "code",
      "source": [
        "#@title Input Form\n",
        "\n",
        "Huggingface_token = \"\" #@param {type:\"string\"}\n",
        "Is_this_folder_or_file_transfer = \"folder\" #@param [\"file\", \"folder\"]\n",
        "Your_source_path = \"\" #@param {type:\"string\"}\n",
        "#@markdown fill this section with your destination path on Huggingface\n",
        "Your_destination_path = \"\" #@param {type:\"string\"}\n",
        "Your_repo_type = \"model\" #@param [\"chose your repo model\",\"model\",\"dataset\",\"space\"]\n",
        "RVC_sort = False #@param {type:\"boolean\"}\n",
        "#@markdown (if RVC sort is True, the input of source path will be disabled)\n",
        "\n",
        "y_token = Huggingface_token\n",
        "src_path = Your_source_path\n",
        "dest_path = Your_destination_path\n",
        "rep_type = Your_repo_type\n",
        "transfer_type = Is_this_folder_or_file_transfer\n",
        "\n",
        "path = dest_path.split(\"/\", maxsplit=2)\n",
        "\n",
        "splitted = src_path.split('/')\n",
        "filename = splitted[-1]\n",
        "if len(path) == 2:\n",
        "  rep_path = filename\n",
        "elif len(path) > 2:\n",
        "  rep_path = path[2] + \"/\" + filename\n",
        "rep_id = path[0] + \"/\" + path[1]\n",
        "key_log = 0 #this variable is for detect if RVC section has running"
      ],
      "metadata": {
        "cellView": "form",
        "id": "8WYJxGH7kv6H"
      },
      "execution_count": null,
      "outputs": []
    },
    {
      "cell_type": "code",
      "execution_count": null,
      "metadata": {
        "cellView": "form",
        "id": "T4mZfxrgegHF"
      },
      "outputs": [],
      "source": [
        "#@title Install HuggingFace Hub\n",
        "!pip install -U \"huggingface_hub[cli]\""
      ]
    },
    {
      "cell_type": "code",
      "source": [
        "#@title Auto Login\n",
        "from huggingface_hub import login\n",
        "from huggingface_hub import HfApi\n",
        "api = HfApi()\n",
        "\n",
        "login(token=y_token)\n",
        "\n",
        "from huggingface_hub import whoami\n",
        "\n",
        "user_info = whoami()\n",
        "print(f\"\\nLogged in as: {user_info['name']} ({user_info['fullname']})\")"
      ],
      "metadata": {
        "cellView": "form",
        "id": "EzwZvLU_j0-y"
      },
      "execution_count": null,
      "outputs": []
    },
    {
      "cell_type": "code",
      "source": [
        "#@title This Section is for sort valid RVC Model (Optional)\n",
        "# @markdown This section will also collect the .index and .pth files from defaut RVC dirrectory in Gdrive (/content/drive/MyDrive/RVC)in one model folder (You can skip this section)\n",
        "\n",
        "#sort valid RVC Model-----\n",
        "if RVC_sort == True:\n",
        "  import numpy as np\n",
        "  import os\n",
        "  from IPython.display import clear_output\n",
        "\n",
        "  Default_RVC_path = \"/content/drive/MyDrive/RVC\"\n",
        "\n",
        "  folders = os.listdir(Default_RVC_path)\n",
        "  array_folders = []\n",
        "  for folder in folders:\n",
        "    if not os.path.isfile(os.path.join(Default_RVC_path, folder)):\n",
        "      array_folders.append(folder)\n",
        "\n",
        "  list_folder = np.array(array_folders)\n",
        "\n",
        "  for folder in list_folder:\n",
        "    if not folder == \"weights\" and not folder == \".ipynb_checkpoints\":\n",
        "      !mkdir -p /content/Temporary/rvc_models/{folder}/\n",
        "      !cp /content/drive/MyDrive/RVC/{folder}/added_*.index /content/Temporary/rvc_models/{folder}/\n",
        "      !cp -r /content/drive/MyDrive/RVC/weights/{folder}.pth /content/Temporary/rvc_models/{folder}\n",
        "\n",
        "\n",
        "  %cd /content/Temporary/rvc_models\n",
        "  !find . -type d -exec bash -c '[[ $(find \"$1\" -maxdepth 1 -type f | wc -l) -lt 2 ]]' _ {} \\; -print0 | xargs -0 rm -rf\n",
        "\n",
        "  clear_output()\n",
        "  print(\"RVC Sort Process DONE\\n\\n\")\n",
        "\n",
        "  print(\"Starting upload to Huggingface...\")\n",
        "\n",
        "  temporary_path = \"/content/Temporary/rvc_models\"\n",
        "  folders = os.listdir(temporary_path)\n",
        "  array_folders = []\n",
        "  for folder in folders:\n",
        "    if not os.path.isfile(os.path.join(temporary_path, folder)):\n",
        "      array_folders.append(folder)\n",
        "\n",
        "  list_folder = np.array(array_folders)\n",
        "\n",
        "  for folder in list_folder:\n",
        "\n",
        "    if not folder == \".ipynb_checkpoints\":\n",
        "      final_path = temporary_path + \"/\" + folder\n",
        "      final_rep_path = \"Models\" + \"/\" + folder\n",
        "      api.upload_folder(\n",
        "        folder_path=final_path,\n",
        "        path_in_repo=final_rep_path,\n",
        "        repo_id=rep_id,\n",
        "        repo_type=rep_type,\n",
        "      )\n",
        "\n",
        "  print(\"All folder and file has been uploaded\")\n",
        "  key_log = 1"
      ],
      "metadata": {
        "cellView": "form",
        "id": "NU_htUSGPp2v"
      },
      "execution_count": null,
      "outputs": []
    },
    {
      "cell_type": "code",
      "source": [
        "#@title Reguler Uploader\n",
        "\n",
        "if key_log == 1:\n",
        "  print(\"You have upload folder by RVC sort section, run again input Section and back to this section\")\n",
        "\n",
        "else:\n",
        "  print(\"Starting upload to Huggingface...\")\n",
        "  if transfer_type == \"file\":\n",
        "    api.upload_file(\n",
        "        path_or_fileobj=src_path,\n",
        "        path_in_repo=rep_path,\n",
        "        repo_id=rep_id,\n",
        "        repo_type=rep_type,\n",
        "    )\n",
        "    print(\"File has been uploaded\")\n",
        "\n",
        "  else:\n",
        "    api.upload_folder(\n",
        "        folder_path=src_path,\n",
        "        path_in_repo=rep_path,\n",
        "        repo_id=rep_id,\n",
        "        repo_type=rep_type,\n",
        "    )\n",
        "    print(\"All folder and file has been uploaded\")"
      ],
      "metadata": {
        "cellView": "form",
        "id": "s-7sYxJMhqjT"
      },
      "execution_count": null,
      "outputs": []
    }
  ]
}